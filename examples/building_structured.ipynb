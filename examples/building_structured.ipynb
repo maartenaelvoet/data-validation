{
 "metadata": {
  "language_info": {
   "codemirror_mode": {
    "name": "ipython",
    "version": 3
   },
   "file_extension": ".py",
   "mimetype": "text/x-python",
   "name": "python",
   "nbconvert_exporter": "python",
   "pygments_lexer": "ipython3",
   "version": "3.7.9-final"
  },
  "orig_nbformat": 2,
  "kernelspec": {
   "name": "python3",
   "display_name": "Python 3.7.9 64-bit ('rdv': conda)",
   "metadata": {
    "interpreter": {
     "hash": "09f0c5c7df71839e2a6d18fcf9d09504a660b4df6ca5f3f81a4e2f77215ac854"
    }
   }
  }
 },
 "nbformat": 4,
 "nbformat_minor": 2,
 "cells": [
  {
   "source": [
    "# Building and using schemas for structured data\n",
    "This tutorial uses the Ames Housing dataset: https://www.kaggle.com/c/house-prices-advanced-regression-techniques/overview\n"
   ],
   "cell_type": "markdown",
   "metadata": {}
  },
  {
   "cell_type": "code",
   "execution_count": 1,
   "metadata": {},
   "outputs": [],
   "source": [
    "import pandas as pd"
   ]
  },
  {
   "source": [
    "Let's start by reading a subset of the dataset. This subset just happens to mostly contain houses on the cheaper end of the price spectrum, which will come in handy later.\n",
    "\n",
    "See the file `./data_sample/houseprices/data_description.txt` for an explanation of what the features mean. For now, it's just important to know that this is a dataset that contains both numerical and categorial features."
   ],
   "cell_type": "markdown",
   "metadata": {}
  },
  {
   "cell_type": "code",
   "execution_count": 2,
   "metadata": {},
   "outputs": [
    {
     "output_type": "execute_result",
     "data": {
      "text/plain": [
       "   MSSubClass MSZoning  LotFrontage  LotArea Street Alley LotShape  \\\n",
       "0          70       RL         60.0     9550   Pave   NaN      IR1   \n",
       "1          50       RL         85.0    14115   Pave   NaN      IR1   \n",
       "2          50       RM         51.0     6120   Pave   NaN      Reg   \n",
       "3         190       RL         50.0     7420   Pave   NaN      Reg   \n",
       "4          20       RL         70.0    11200   Pave   NaN      Reg   \n",
       "\n",
       "  LandContour Utilities LotConfig  ... PoolArea PoolQC  Fence MiscFeature  \\\n",
       "0         Lvl    AllPub    Corner  ...        0    NaN    NaN         NaN   \n",
       "1         Lvl    AllPub    Inside  ...        0    NaN  MnPrv        Shed   \n",
       "2         Lvl    AllPub    Inside  ...        0    NaN    NaN         NaN   \n",
       "3         Lvl    AllPub    Corner  ...        0    NaN    NaN         NaN   \n",
       "4         Lvl    AllPub    Inside  ...        0    NaN    NaN         NaN   \n",
       "\n",
       "  MiscVal MoSold  YrSold  SaleType  SaleCondition  SalePrice  \n",
       "0       0      2    2006        WD        Abnorml     140000  \n",
       "1     700     10    2009        WD         Normal     143000  \n",
       "2       0      4    2008        WD        Abnorml     129900  \n",
       "3       0      1    2008        WD         Normal     118000  \n",
       "4       0      2    2008        WD         Normal     129500  \n",
       "\n",
       "[5 rows x 80 columns]"
      ],
      "text/html": "<div>\n<style scoped>\n    .dataframe tbody tr th:only-of-type {\n        vertical-align: middle;\n    }\n\n    .dataframe tbody tr th {\n        vertical-align: top;\n    }\n\n    .dataframe thead th {\n        text-align: right;\n    }\n</style>\n<table border=\"1\" class=\"dataframe\">\n  <thead>\n    <tr style=\"text-align: right;\">\n      <th></th>\n      <th>MSSubClass</th>\n      <th>MSZoning</th>\n      <th>LotFrontage</th>\n      <th>LotArea</th>\n      <th>Street</th>\n      <th>Alley</th>\n      <th>LotShape</th>\n      <th>LandContour</th>\n      <th>Utilities</th>\n      <th>LotConfig</th>\n      <th>...</th>\n      <th>PoolArea</th>\n      <th>PoolQC</th>\n      <th>Fence</th>\n      <th>MiscFeature</th>\n      <th>MiscVal</th>\n      <th>MoSold</th>\n      <th>YrSold</th>\n      <th>SaleType</th>\n      <th>SaleCondition</th>\n      <th>SalePrice</th>\n    </tr>\n  </thead>\n  <tbody>\n    <tr>\n      <th>0</th>\n      <td>70</td>\n      <td>RL</td>\n      <td>60.0</td>\n      <td>9550</td>\n      <td>Pave</td>\n      <td>NaN</td>\n      <td>IR1</td>\n      <td>Lvl</td>\n      <td>AllPub</td>\n      <td>Corner</td>\n      <td>...</td>\n      <td>0</td>\n      <td>NaN</td>\n      <td>NaN</td>\n      <td>NaN</td>\n      <td>0</td>\n      <td>2</td>\n      <td>2006</td>\n      <td>WD</td>\n      <td>Abnorml</td>\n      <td>140000</td>\n    </tr>\n    <tr>\n      <th>1</th>\n      <td>50</td>\n      <td>RL</td>\n      <td>85.0</td>\n      <td>14115</td>\n      <td>Pave</td>\n      <td>NaN</td>\n      <td>IR1</td>\n      <td>Lvl</td>\n      <td>AllPub</td>\n      <td>Inside</td>\n      <td>...</td>\n      <td>0</td>\n      <td>NaN</td>\n      <td>MnPrv</td>\n      <td>Shed</td>\n      <td>700</td>\n      <td>10</td>\n      <td>2009</td>\n      <td>WD</td>\n      <td>Normal</td>\n      <td>143000</td>\n    </tr>\n    <tr>\n      <th>2</th>\n      <td>50</td>\n      <td>RM</td>\n      <td>51.0</td>\n      <td>6120</td>\n      <td>Pave</td>\n      <td>NaN</td>\n      <td>Reg</td>\n      <td>Lvl</td>\n      <td>AllPub</td>\n      <td>Inside</td>\n      <td>...</td>\n      <td>0</td>\n      <td>NaN</td>\n      <td>NaN</td>\n      <td>NaN</td>\n      <td>0</td>\n      <td>4</td>\n      <td>2008</td>\n      <td>WD</td>\n      <td>Abnorml</td>\n      <td>129900</td>\n    </tr>\n    <tr>\n      <th>3</th>\n      <td>190</td>\n      <td>RL</td>\n      <td>50.0</td>\n      <td>7420</td>\n      <td>Pave</td>\n      <td>NaN</td>\n      <td>Reg</td>\n      <td>Lvl</td>\n      <td>AllPub</td>\n      <td>Corner</td>\n      <td>...</td>\n      <td>0</td>\n      <td>NaN</td>\n      <td>NaN</td>\n      <td>NaN</td>\n      <td>0</td>\n      <td>1</td>\n      <td>2008</td>\n      <td>WD</td>\n      <td>Normal</td>\n      <td>118000</td>\n    </tr>\n    <tr>\n      <th>4</th>\n      <td>20</td>\n      <td>RL</td>\n      <td>70.0</td>\n      <td>11200</td>\n      <td>Pave</td>\n      <td>NaN</td>\n      <td>Reg</td>\n      <td>Lvl</td>\n      <td>AllPub</td>\n      <td>Inside</td>\n      <td>...</td>\n      <td>0</td>\n      <td>NaN</td>\n      <td>NaN</td>\n      <td>NaN</td>\n      <td>0</td>\n      <td>2</td>\n      <td>2008</td>\n      <td>WD</td>\n      <td>Normal</td>\n      <td>129500</td>\n    </tr>\n  </tbody>\n</table>\n<p>5 rows × 80 columns</p>\n</div>"
     },
     "metadata": {},
     "execution_count": 2
    }
   ],
   "source": [
    "DATA_PATH = \"./data_sample/houseprices/subset-cheap.csv\"\n",
    "all_data = pd.read_csv(DATA_PATH).drop(\"Id\", axis=\"columns\")\n",
    "all_data.head(5)"
   ]
  },
  {
   "source": [
    "## The cumbersome way\n",
    "One (cumbersome) way to define a schema for this dataframe is by specifying all features to be tracked manually. This is shown below for some features."
   ],
   "cell_type": "markdown",
   "metadata": {}
  },
  {
   "cell_type": "code",
   "execution_count": 3,
   "metadata": {},
   "outputs": [
    {
     "output_type": "stream",
     "name": "stdout",
     "text": [
      "Schema(name=\"manually-defined\", version=\"0.0.1\"\n"
     ]
    },
    {
     "output_type": "execute_result",
     "data": {
      "text/plain": [
       "{'MSSubClass': IntFeature(name=MSSubClass, extractor=ElementExtractor(element=MSSubClass)),\n",
       " 'MSZoning': CategoricFeature(name=MSZoning, extractor=ElementExtractor(element=MSZoning)),\n",
       " 'LotFrontage': FloatFeature(name=LotFrontage, extractor=ElementExtractor(element=LotFrontage))}"
      ]
     },
     "metadata": {},
     "execution_count": 3
    }
   ],
   "source": [
    "from rdv.schema import Schema\n",
    "from rdv.extractors.structured import ElementExtractor\n",
    "from rdv.feature import CategoricFeature, IntFeature, FloatFeature\n",
    "\n",
    "schema_manual = Schema(\n",
    "    # A schema needs a name and version\n",
    "    name=\"manually-defined\", \n",
    "    version=\"0.0.1\", \n",
    "    # Now, we specify the features we want to track.\n",
    "    features=[\n",
    "        IntFeature(name=\"MSSubClass\", extractor=ElementExtractor(\"MSSubClass\")),\n",
    "        CategoricFeature(name=\"MSZoning\", extractor=ElementExtractor(\"MSZoning\")),\n",
    "        FloatFeature(name=\"LotFrontage\", extractor=ElementExtractor(\"LotFrontage\")),\n",
    "    ])\n",
    "print(schema_manual)\n",
    "schema_manual.features"
   ]
  },
  {
   "source": [
    "## Simplified way\n",
    "Since we simply want to extract every single feature from a feature vector in this case, the above seems needlessly cumbersome for a dataframe with 80 columns. Therefore, you can use the `construct_features` function, a shown below.\n",
    "\n",
    "If you'd want to extract another kind of feature too, like a one-hot check or a subvector norm check, you could combine both approaches into one list before passing it to the schema constructor. "
   ],
   "cell_type": "markdown",
   "metadata": {}
  },
  {
   "cell_type": "code",
   "execution_count": 4,
   "metadata": {},
   "outputs": [
    {
     "output_type": "stream",
     "name": "stdout",
     "text": [
      "Schema(name=\"auto-defined\", version=\"0.0.1\"\n"
     ]
    },
    {
     "output_type": "execute_result",
     "data": {
      "text/plain": [
       "{'MSSubClass': IntFeature(name=MSSubClass, extractor=ElementExtractor(element=MSSubClass)),\n",
       " 'MSZoning': CategoricFeature(name=MSZoning, extractor=ElementExtractor(element=MSZoning)),\n",
       " 'LotFrontage': FloatFeature(name=LotFrontage, extractor=ElementExtractor(element=LotFrontage)),\n",
       " 'LotArea': IntFeature(name=LotArea, extractor=ElementExtractor(element=LotArea)),\n",
       " 'Street': CategoricFeature(name=Street, extractor=ElementExtractor(element=Street)),\n",
       " 'Alley': CategoricFeature(name=Alley, extractor=ElementExtractor(element=Alley)),\n",
       " 'LotShape': CategoricFeature(name=LotShape, extractor=ElementExtractor(element=LotShape)),\n",
       " 'LandContour': CategoricFeature(name=LandContour, extractor=ElementExtractor(element=LandContour)),\n",
       " 'Utilities': CategoricFeature(name=Utilities, extractor=ElementExtractor(element=Utilities)),\n",
       " 'LotConfig': CategoricFeature(name=LotConfig, extractor=ElementExtractor(element=LotConfig)),\n",
       " 'LandSlope': CategoricFeature(name=LandSlope, extractor=ElementExtractor(element=LandSlope)),\n",
       " 'Neighborhood': CategoricFeature(name=Neighborhood, extractor=ElementExtractor(element=Neighborhood)),\n",
       " 'Condition1': CategoricFeature(name=Condition1, extractor=ElementExtractor(element=Condition1)),\n",
       " 'Condition2': CategoricFeature(name=Condition2, extractor=ElementExtractor(element=Condition2)),\n",
       " 'BldgType': CategoricFeature(name=BldgType, extractor=ElementExtractor(element=BldgType)),\n",
       " 'HouseStyle': CategoricFeature(name=HouseStyle, extractor=ElementExtractor(element=HouseStyle)),\n",
       " 'OverallQual': IntFeature(name=OverallQual, extractor=ElementExtractor(element=OverallQual)),\n",
       " 'OverallCond': IntFeature(name=OverallCond, extractor=ElementExtractor(element=OverallCond)),\n",
       " 'YearBuilt': IntFeature(name=YearBuilt, extractor=ElementExtractor(element=YearBuilt)),\n",
       " 'YearRemodAdd': IntFeature(name=YearRemodAdd, extractor=ElementExtractor(element=YearRemodAdd)),\n",
       " 'RoofStyle': CategoricFeature(name=RoofStyle, extractor=ElementExtractor(element=RoofStyle)),\n",
       " 'RoofMatl': CategoricFeature(name=RoofMatl, extractor=ElementExtractor(element=RoofMatl)),\n",
       " 'Exterior1st': CategoricFeature(name=Exterior1st, extractor=ElementExtractor(element=Exterior1st)),\n",
       " 'Exterior2nd': CategoricFeature(name=Exterior2nd, extractor=ElementExtractor(element=Exterior2nd)),\n",
       " 'MasVnrType': CategoricFeature(name=MasVnrType, extractor=ElementExtractor(element=MasVnrType)),\n",
       " 'MasVnrArea': FloatFeature(name=MasVnrArea, extractor=ElementExtractor(element=MasVnrArea)),\n",
       " 'ExterQual': CategoricFeature(name=ExterQual, extractor=ElementExtractor(element=ExterQual)),\n",
       " 'ExterCond': CategoricFeature(name=ExterCond, extractor=ElementExtractor(element=ExterCond)),\n",
       " 'Foundation': CategoricFeature(name=Foundation, extractor=ElementExtractor(element=Foundation)),\n",
       " 'BsmtQual': CategoricFeature(name=BsmtQual, extractor=ElementExtractor(element=BsmtQual)),\n",
       " 'BsmtCond': CategoricFeature(name=BsmtCond, extractor=ElementExtractor(element=BsmtCond)),\n",
       " 'BsmtExposure': CategoricFeature(name=BsmtExposure, extractor=ElementExtractor(element=BsmtExposure)),\n",
       " 'BsmtFinType1': CategoricFeature(name=BsmtFinType1, extractor=ElementExtractor(element=BsmtFinType1)),\n",
       " 'BsmtFinSF1': IntFeature(name=BsmtFinSF1, extractor=ElementExtractor(element=BsmtFinSF1)),\n",
       " 'BsmtFinType2': CategoricFeature(name=BsmtFinType2, extractor=ElementExtractor(element=BsmtFinType2)),\n",
       " 'BsmtFinSF2': IntFeature(name=BsmtFinSF2, extractor=ElementExtractor(element=BsmtFinSF2)),\n",
       " 'BsmtUnfSF': IntFeature(name=BsmtUnfSF, extractor=ElementExtractor(element=BsmtUnfSF)),\n",
       " 'TotalBsmtSF': IntFeature(name=TotalBsmtSF, extractor=ElementExtractor(element=TotalBsmtSF)),\n",
       " 'Heating': CategoricFeature(name=Heating, extractor=ElementExtractor(element=Heating)),\n",
       " 'HeatingQC': CategoricFeature(name=HeatingQC, extractor=ElementExtractor(element=HeatingQC)),\n",
       " 'CentralAir': CategoricFeature(name=CentralAir, extractor=ElementExtractor(element=CentralAir)),\n",
       " 'Electrical': CategoricFeature(name=Electrical, extractor=ElementExtractor(element=Electrical)),\n",
       " '1stFlrSF': IntFeature(name=1stFlrSF, extractor=ElementExtractor(element=1stFlrSF)),\n",
       " '2ndFlrSF': IntFeature(name=2ndFlrSF, extractor=ElementExtractor(element=2ndFlrSF)),\n",
       " 'LowQualFinSF': IntFeature(name=LowQualFinSF, extractor=ElementExtractor(element=LowQualFinSF)),\n",
       " 'GrLivArea': IntFeature(name=GrLivArea, extractor=ElementExtractor(element=GrLivArea)),\n",
       " 'BsmtFullBath': IntFeature(name=BsmtFullBath, extractor=ElementExtractor(element=BsmtFullBath)),\n",
       " 'BsmtHalfBath': IntFeature(name=BsmtHalfBath, extractor=ElementExtractor(element=BsmtHalfBath)),\n",
       " 'FullBath': IntFeature(name=FullBath, extractor=ElementExtractor(element=FullBath)),\n",
       " 'HalfBath': IntFeature(name=HalfBath, extractor=ElementExtractor(element=HalfBath)),\n",
       " 'BedroomAbvGr': IntFeature(name=BedroomAbvGr, extractor=ElementExtractor(element=BedroomAbvGr)),\n",
       " 'KitchenAbvGr': IntFeature(name=KitchenAbvGr, extractor=ElementExtractor(element=KitchenAbvGr)),\n",
       " 'KitchenQual': CategoricFeature(name=KitchenQual, extractor=ElementExtractor(element=KitchenQual)),\n",
       " 'TotRmsAbvGrd': IntFeature(name=TotRmsAbvGrd, extractor=ElementExtractor(element=TotRmsAbvGrd)),\n",
       " 'Functional': CategoricFeature(name=Functional, extractor=ElementExtractor(element=Functional)),\n",
       " 'Fireplaces': IntFeature(name=Fireplaces, extractor=ElementExtractor(element=Fireplaces)),\n",
       " 'FireplaceQu': CategoricFeature(name=FireplaceQu, extractor=ElementExtractor(element=FireplaceQu)),\n",
       " 'GarageType': CategoricFeature(name=GarageType, extractor=ElementExtractor(element=GarageType)),\n",
       " 'GarageYrBlt': FloatFeature(name=GarageYrBlt, extractor=ElementExtractor(element=GarageYrBlt)),\n",
       " 'GarageFinish': CategoricFeature(name=GarageFinish, extractor=ElementExtractor(element=GarageFinish)),\n",
       " 'GarageCars': IntFeature(name=GarageCars, extractor=ElementExtractor(element=GarageCars)),\n",
       " 'GarageArea': IntFeature(name=GarageArea, extractor=ElementExtractor(element=GarageArea)),\n",
       " 'GarageQual': CategoricFeature(name=GarageQual, extractor=ElementExtractor(element=GarageQual)),\n",
       " 'GarageCond': CategoricFeature(name=GarageCond, extractor=ElementExtractor(element=GarageCond)),\n",
       " 'PavedDrive': CategoricFeature(name=PavedDrive, extractor=ElementExtractor(element=PavedDrive)),\n",
       " 'WoodDeckSF': IntFeature(name=WoodDeckSF, extractor=ElementExtractor(element=WoodDeckSF)),\n",
       " 'OpenPorchSF': IntFeature(name=OpenPorchSF, extractor=ElementExtractor(element=OpenPorchSF)),\n",
       " 'EnclosedPorch': IntFeature(name=EnclosedPorch, extractor=ElementExtractor(element=EnclosedPorch)),\n",
       " '3SsnPorch': IntFeature(name=3SsnPorch, extractor=ElementExtractor(element=3SsnPorch)),\n",
       " 'ScreenPorch': IntFeature(name=ScreenPorch, extractor=ElementExtractor(element=ScreenPorch)),\n",
       " 'PoolArea': IntFeature(name=PoolArea, extractor=ElementExtractor(element=PoolArea)),\n",
       " 'PoolQC': CategoricFeature(name=PoolQC, extractor=ElementExtractor(element=PoolQC)),\n",
       " 'Fence': CategoricFeature(name=Fence, extractor=ElementExtractor(element=Fence)),\n",
       " 'MiscFeature': CategoricFeature(name=MiscFeature, extractor=ElementExtractor(element=MiscFeature)),\n",
       " 'MiscVal': IntFeature(name=MiscVal, extractor=ElementExtractor(element=MiscVal)),\n",
       " 'MoSold': IntFeature(name=MoSold, extractor=ElementExtractor(element=MoSold)),\n",
       " 'YrSold': IntFeature(name=YrSold, extractor=ElementExtractor(element=YrSold)),\n",
       " 'SaleType': CategoricFeature(name=SaleType, extractor=ElementExtractor(element=SaleType)),\n",
       " 'SaleCondition': CategoricFeature(name=SaleCondition, extractor=ElementExtractor(element=SaleCondition)),\n",
       " 'SalePrice': IntFeature(name=SalePrice, extractor=ElementExtractor(element=SalePrice))}"
      ]
     },
     "metadata": {},
     "execution_count": 4
    }
   ],
   "source": [
    "from rdv.extractors.structured import construct_features\n",
    "\n",
    "schema = Schema(\n",
    "    name=\"auto-defined\", \n",
    "    version=\"0.0.1\", \n",
    "    features=construct_features(all_data.dtypes))\n",
    "print(schema)\n",
    "schema.features"
   ]
  },
  {
   "source": [
    "## Building the schema\n",
    "\n",
    "Now that we have defined how the data looks like, we can build the schema. This will build stats for every registered feature."
   ],
   "cell_type": "markdown",
   "metadata": {}
  },
  {
   "cell_type": "code",
   "execution_count": 5,
   "metadata": {},
   "outputs": [
    {
     "output_type": "stream",
     "name": "stdout",
     "text": [
      "Compiling stats for MSSubClass\n",
      "Compiling stats for MSZoning\n",
      "Compiling stats for LotFrontage\n",
      "Compiling stats for LotArea\n",
      "Compiling stats for Street\n",
      "Compiling stats for Alley\n",
      "Compiling stats for LotShape\n",
      "Compiling stats for LandContour\n",
      "Compiling stats for Utilities\n",
      "Compiling stats for LotConfig\n",
      "Compiling stats for LandSlope\n",
      "Compiling stats for Neighborhood\n",
      "Compiling stats for Condition1\n",
      "Compiling stats for Condition2\n",
      "Compiling stats for BldgType\n",
      "Compiling stats for HouseStyle\n",
      "Compiling stats for OverallQual\n",
      "Compiling stats for OverallCond\n",
      "Compiling stats for YearBuilt\n",
      "Compiling stats for YearRemodAdd\n",
      "Compiling stats for RoofStyle\n",
      "Compiling stats for RoofMatl\n",
      "Compiling stats for Exterior1st\n",
      "Compiling stats for Exterior2nd\n",
      "Compiling stats for MasVnrType\n",
      "Compiling stats for MasVnrArea\n",
      "Compiling stats for ExterQual\n",
      "Compiling stats for ExterCond\n",
      "Compiling stats for Foundation\n",
      "Compiling stats for BsmtQual\n",
      "Compiling stats for BsmtCond\n",
      "Compiling stats for BsmtExposure\n",
      "Compiling stats for BsmtFinType1\n",
      "Compiling stats for BsmtFinSF1\n",
      "Compiling stats for BsmtFinType2\n",
      "Compiling stats for BsmtFinSF2\n",
      "Compiling stats for BsmtUnfSF\n",
      "Compiling stats for TotalBsmtSF\n",
      "Compiling stats for Heating\n",
      "Compiling stats for HeatingQC\n",
      "Compiling stats for CentralAir\n",
      "Compiling stats for Electrical\n",
      "Compiling stats for 1stFlrSF\n",
      "Compiling stats for 2ndFlrSF\n",
      "Compiling stats for LowQualFinSF\n",
      "Compiling stats for GrLivArea\n",
      "Compiling stats for BsmtFullBath\n",
      "Compiling stats for BsmtHalfBath\n",
      "Compiling stats for FullBath\n",
      "Compiling stats for HalfBath\n",
      "Compiling stats for BedroomAbvGr\n",
      "Compiling stats for KitchenAbvGr\n",
      "Compiling stats for KitchenQual\n",
      "Compiling stats for TotRmsAbvGrd\n",
      "Compiling stats for Functional\n",
      "Compiling stats for Fireplaces\n",
      "Compiling stats for FireplaceQu\n",
      "Compiling stats for GarageType\n",
      "Compiling stats for GarageYrBlt\n",
      "Compiling stats for GarageFinish\n",
      "Compiling stats for GarageCars\n",
      "Compiling stats for GarageArea\n",
      "Compiling stats for GarageQual\n",
      "Compiling stats for GarageCond\n",
      "Compiling stats for PavedDrive\n",
      "Compiling stats for WoodDeckSF\n",
      "Compiling stats for OpenPorchSF\n",
      "Compiling stats for EnclosedPorch\n",
      "Compiling stats for 3SsnPorch\n",
      "Compiling stats for ScreenPorch\n",
      "Compiling stats for PoolArea\n",
      "Compiling stats for PoolQC\n",
      "Compiling stats for Fence\n",
      "Compiling stats for MiscFeature\n",
      "Compiling stats for MiscVal\n",
      "Compiling stats for MoSold\n",
      "Compiling stats for YrSold\n",
      "Compiling stats for SaleType\n",
      "Compiling stats for SaleCondition\n",
      "Compiling stats for SalePrice\n"
     ]
    }
   ],
   "source": [
    "schema.build(data=all_data)\n",
    "\n",
    "#Let's also save it for later use.\n",
    "schema.save(\"houses-cheap-built.json\")"
   ]
  },
  {
   "source": [
    "## Inspecting the schema\n",
    "RDV offers toolign to inspect the schema's that are built. Let's laod the schema (just because we can) and inspect it."
   ],
   "cell_type": "markdown",
   "metadata": {}
  },
  {
   "cell_type": "code",
   "execution_count": 6,
   "metadata": {},
   "outputs": [
    {
     "output_type": "stream",
     "name": "stdout",
     "text": [
      "Using JupyterDash\n"
     ]
    },
    {
     "output_type": "display_data",
     "data": {
      "text/plain": "<IPython.lib.display.IFrame at 0x7f98a3477850>",
      "text/html": "\n        <iframe\n            width=\"100%\"\n            height=\"650\"\n            src=\"http://127.0.0.1:8050/\"\n            frameborder=\"0\"\n            allowfullscreen\n        ></iframe>\n        "
     },
     "metadata": {}
    }
   ],
   "source": [
    "schema = Schema.load(\"houses-cheap-built.json\")\n",
    "schema.view()"
   ]
  },
  {
   "source": [
    "Alternatively, we can plot a certain point of interest (poi) on the schema, to see how it compares to the training distributions. We can also specify that we want to show the schema in a new broser window."
   ],
   "cell_type": "markdown",
   "metadata": {}
  },
  {
   "cell_type": "code",
   "execution_count": 7,
   "metadata": {},
   "outputs": [
    {
     "output_type": "stream",
     "name": "stdout",
     "text": [
      "Using JupyterDash\n",
      "Dash app running on http://127.0.0.1:8050/\n"
     ]
    }
   ],
   "source": [
    "schema.view(poi=all_data.iloc[2, :], mode=\"external\")"
   ]
  },
  {
   "source": [
    "## Validating new data\n",
    "To use the data schema to check incomping data in your production system, simply load it from JSON and call `check(data)`. This will output tags that can be used as metric in any monitoring platform, but they integrate perticularly well with [Raymon.ai](https://raymon.ai)"
   ],
   "cell_type": "markdown",
   "metadata": {}
  },
  {
   "cell_type": "code",
   "execution_count": 8,
   "metadata": {},
   "outputs": [
    {
     "output_type": "execute_result",
     "data": {
      "text/plain": [
       "[{'type': 'schema-feature',\n",
       "  'name': 'MSSubClass',\n",
       "  'value': 60.0,\n",
       "  'group': 'auto-defined@0.0.1'},\n",
       " {'type': 'schema-feature',\n",
       "  'name': 'MSZoning',\n",
       "  'value': 'RL',\n",
       "  'group': 'auto-defined@0.0.1'},\n",
       " {'type': 'schema-feature',\n",
       "  'name': 'LotFrontage',\n",
       "  'value': 62.0,\n",
       "  'group': 'auto-defined@0.0.1'},\n",
       " {'type': 'schema-feature',\n",
       "  'name': 'LotArea',\n",
       "  'value': 7917.0,\n",
       "  'group': 'auto-defined@0.0.1'},\n",
       " {'type': 'schema-feature',\n",
       "  'name': 'Street',\n",
       "  'value': 'Pave',\n",
       "  'group': 'auto-defined@0.0.1'},\n",
       " {'type': 'schema-feature',\n",
       "  'name': 'Alley',\n",
       "  'value': nan,\n",
       "  'group': 'auto-defined@0.0.1'},\n",
       " {'type': 'schema-error',\n",
       "  'name': 'Alley-err',\n",
       "  'value': 'Value NaN',\n",
       "  'group': 'auto-defined@0.0.1'},\n",
       " {'type': 'schema-feature',\n",
       "  'name': 'LotShape',\n",
       "  'value': 'Reg',\n",
       "  'group': 'auto-defined@0.0.1'},\n",
       " {'type': 'schema-feature',\n",
       "  'name': 'LandContour',\n",
       "  'value': 'Lvl',\n",
       "  'group': 'auto-defined@0.0.1'},\n",
       " {'type': 'schema-feature',\n",
       "  'name': 'Utilities',\n",
       "  'value': 'AllPub',\n",
       "  'group': 'auto-defined@0.0.1'}]"
      ]
     },
     "metadata": {},
     "execution_count": 8
    }
   ],
   "source": [
    "row = all_data.iloc[-1, :]\n",
    "tags = schema.check(row)\n",
    "tags[:10]"
   ]
  },
  {
   "source": [
    "There are a few things of note here. \n",
    "First of all, all the extracted feature values are returned. This is useful for when you want to track feature distributions on your monitoring backend (which is what happens on the Raymon.ai platform). Also note that these features are not necessarily the ones going into your ML model.\n",
    "\n",
    "Secondly, the feature `Alley` gives rise to 2 tags: one being the feature (`nan`) and one being a schema error, indicating that `nan` is not a valid feature value. Raymon will also check whether the data under test is between the observed `min` and `max` during building. If this is not the case, an error tag will be added for that feature. These error tags can also be sent to your preferred monitoring solution to track the amount of faulty data in your system."
   ],
   "cell_type": "markdown",
   "metadata": {}
  },
  {
   "cell_type": "code",
   "execution_count": 9,
   "metadata": {},
   "outputs": [
    {
     "output_type": "execute_result",
     "data": {
      "text/plain": [
       "[{'type': 'schema-feature',\n",
       "  'name': 'Alley',\n",
       "  'value': nan,\n",
       "  'group': 'auto-defined@0.0.1'},\n",
       " {'type': 'schema-error',\n",
       "  'name': 'Alley-err',\n",
       "  'value': 'Value NaN',\n",
       "  'group': 'auto-defined@0.0.1'}]"
      ]
     },
     "metadata": {},
     "execution_count": 9
    }
   ],
   "source": [
    "tags[5:7]"
   ]
  },
  {
   "source": [
    "The output above is structured for easy integration with the Raymon.ai platform, you can also return the tags as normal objects, that can be converted to any form you like to integrate with your monitoring solution."
   ],
   "cell_type": "markdown",
   "metadata": {}
  },
  {
   "cell_type": "code",
   "execution_count": 10,
   "metadata": {},
   "outputs": [
    {
     "output_type": "execute_result",
     "data": {
      "text/plain": [
       "[Tag(name='MSSubClass, value=60.0, type=schema-feature, group=auto-defined@0.0.1,\n",
       " Tag(name='MSZoning, value=RL, type=schema-feature, group=auto-defined@0.0.1,\n",
       " Tag(name='LotFrontage, value=62.0, type=schema-feature, group=auto-defined@0.0.1,\n",
       " Tag(name='LotArea, value=7917.0, type=schema-feature, group=auto-defined@0.0.1,\n",
       " Tag(name='Street, value=Pave, type=schema-feature, group=auto-defined@0.0.1,\n",
       " Tag(name='Alley, value=nan, type=schema-feature, group=auto-defined@0.0.1,\n",
       " Tag(name='Alley-err, value=Value NaN, type=schema-error, group=auto-defined@0.0.1,\n",
       " Tag(name='LotShape, value=Reg, type=schema-feature, group=auto-defined@0.0.1,\n",
       " Tag(name='LandContour, value=Lvl, type=schema-feature, group=auto-defined@0.0.1,\n",
       " Tag(name='Utilities, value=AllPub, type=schema-feature, group=auto-defined@0.0.1]"
      ]
     },
     "metadata": {},
     "execution_count": 10
    }
   ],
   "source": [
    "tags = schema.check(row, convert_json=False)\n",
    "tags[:10]"
   ]
  },
  {
   "source": [
    "## Comparing schemas\n",
    "Checking for invalid feature values only says so much. Comparing distributions tells more. This is exactly what can be done with the `schema.compare(other)` method, as illustrated below. This function will perform a statistical test on every feature to check whether they have the same distribution."
   ],
   "cell_type": "markdown",
   "metadata": {}
  },
  {
   "cell_type": "code",
   "execution_count": 11,
   "metadata": {},
   "outputs": [
    {
     "output_type": "stream",
     "name": "stdout",
     "text": [
      "Compiling stats for MSSubClass\n",
      "Compiling stats for MSZoning\n",
      "Compiling stats for LotFrontage\n",
      "Compiling stats for LotArea\n",
      "Compiling stats for Street\n",
      "Compiling stats for Alley\n",
      "Compiling stats for LotShape\n",
      "Compiling stats for LandContour\n",
      "Compiling stats for Utilities\n",
      "Compiling stats for LotConfig\n",
      "Compiling stats for LandSlope\n",
      "Compiling stats for Neighborhood\n",
      "Compiling stats for Condition1\n",
      "Compiling stats for Condition2\n",
      "Compiling stats for BldgType\n",
      "Compiling stats for HouseStyle\n",
      "Compiling stats for OverallQual\n",
      "Compiling stats for OverallCond\n",
      "Compiling stats for YearBuilt\n",
      "Compiling stats for YearRemodAdd\n",
      "Compiling stats for RoofStyle\n",
      "Compiling stats for RoofMatl\n",
      "Compiling stats for Exterior1st\n",
      "Compiling stats for Exterior2nd\n",
      "Compiling stats for MasVnrType\n",
      "Compiling stats for MasVnrArea\n",
      "Compiling stats for ExterQual\n",
      "Compiling stats for ExterCond\n",
      "Compiling stats for Foundation\n",
      "Compiling stats for BsmtQual\n",
      "Compiling stats for BsmtCond\n",
      "Compiling stats for BsmtExposure\n",
      "Compiling stats for BsmtFinType1\n",
      "Compiling stats for BsmtFinSF1\n",
      "Compiling stats for BsmtFinType2\n",
      "Compiling stats for BsmtFinSF2\n",
      "Compiling stats for BsmtUnfSF\n",
      "Compiling stats for TotalBsmtSF\n",
      "Compiling stats for Heating\n",
      "Compiling stats for HeatingQC\n",
      "Compiling stats for CentralAir\n",
      "Compiling stats for Electrical\n",
      "Compiling stats for 1stFlrSF\n",
      "Compiling stats for 2ndFlrSF\n",
      "Compiling stats for LowQualFinSF\n",
      "Compiling stats for GrLivArea\n",
      "Compiling stats for BsmtFullBath\n",
      "Compiling stats for BsmtHalfBath\n",
      "Compiling stats for FullBath\n",
      "Compiling stats for HalfBath\n",
      "Compiling stats for BedroomAbvGr\n",
      "Compiling stats for KitchenAbvGr\n",
      "Compiling stats for KitchenQual\n",
      "Compiling stats for TotRmsAbvGrd\n",
      "Compiling stats for Functional\n",
      "Compiling stats for Fireplaces\n",
      "Compiling stats for FireplaceQu\n",
      "Compiling stats for GarageType\n",
      "Compiling stats for GarageYrBlt\n",
      "Compiling stats for GarageFinish\n",
      "Compiling stats for GarageCars\n",
      "Compiling stats for GarageArea\n",
      "Compiling stats for GarageQual\n",
      "Compiling stats for GarageCond\n",
      "Compiling stats for PavedDrive\n",
      "Compiling stats for WoodDeckSF\n",
      "Compiling stats for OpenPorchSF\n",
      "Compiling stats for EnclosedPorch\n",
      "Compiling stats for 3SsnPorch\n",
      "Compiling stats for ScreenPorch\n",
      "Compiling stats for PoolArea\n",
      "Compiling stats for PoolQC\n",
      "Compiling stats for Fence\n",
      "Compiling stats for MiscFeature\n",
      "Compiling stats for MiscVal\n",
      "Compiling stats for MoSold\n",
      "Compiling stats for YrSold\n",
      "Compiling stats for SaleType\n",
      "Compiling stats for SaleCondition\n",
      "Compiling stats for SalePrice\n",
      "Using JupyterDash\n"
     ]
    },
    {
     "output_type": "display_data",
     "data": {
      "text/plain": "<IPython.lib.display.IFrame at 0x7f98a04bdf90>",
      "text/html": "\n        <iframe\n            width=\"100%\"\n            height=\"650\"\n            src=\"http://127.0.0.1:8050/\"\n            frameborder=\"0\"\n            allowfullscreen\n        ></iframe>\n        "
     },
     "metadata": {}
    }
   ],
   "source": [
    "\n",
    "exp_data = pd.read_csv(\"./data_sample/houseprices/subset-exp.csv\").drop(\"Id\", axis=\"columns\")\n",
    "schema_exp = Schema(\n",
    "    name=\"expensive\", \n",
    "    version=\"0.0.1\", \n",
    "    features=construct_features(all_data.dtypes))\n",
    "    \n",
    "schema_exp.build(exp_data)\n",
    "schema.compare(schema_exp)"
   ]
  },
  {
   "source": [
    "As we can see, most features have a different distriution between those 2 schemas. This is as expected: one is built for houses on the cheap end of the price spectrum, the other on houses on the expensive end. Finding out about such distribution shifts is important to be able to maintain reliable ML systems.\n",
    "\n",
    "Note: comparing schemas like this is exactly what we do on the Raymon.ai backend."
   ],
   "cell_type": "markdown",
   "metadata": {}
  },
  {
   "source": [
    "As a sanity check, we can sample the same dataframe twice and see whether there are distribution changes detected."
   ],
   "cell_type": "markdown",
   "metadata": {}
  },
  {
   "cell_type": "code",
   "execution_count": 12,
   "metadata": {},
   "outputs": [
    {
     "output_type": "stream",
     "name": "stdout",
     "text": [
      "Compiling stats for MSSubClass\nCompiling stats for MSZoning\nCompiling stats for LotFrontage\nCompiling stats for LotArea\nCompiling stats for Street\nCompiling stats for Alley\nCompiling stats for LotShape\nCompiling stats for LandContour\nCompiling stats for Utilities\nCompiling stats for LotConfig\nCompiling stats for LandSlope\nCompiling stats for Neighborhood\nCompiling stats for Condition1\nCompiling stats for Condition2\nCompiling stats for BldgType\nCompiling stats for HouseStyle\nCompiling stats for OverallQual\nCompiling stats for OverallCond\nCompiling stats for YearBuilt\nCompiling stats for YearRemodAdd\nCompiling stats for RoofStyle\nCompiling stats for RoofMatl\nCompiling stats for Exterior1st\nCompiling stats for Exterior2nd\nCompiling stats for MasVnrType\nCompiling stats for MasVnrArea\nCompiling stats for ExterQual\nCompiling stats for ExterCond\nCompiling stats for Foundation\nCompiling stats for BsmtQual\nCompiling stats for BsmtCond\nCompiling stats for BsmtExposure\nCompiling stats for BsmtFinType1\nCompiling stats for BsmtFinSF1\nCompiling stats for BsmtFinType2\nCompiling stats for BsmtFinSF2\nCompiling stats for BsmtUnfSF\nCompiling stats for TotalBsmtSF\nCompiling stats for Heating\nCompiling stats for HeatingQC\nCompiling stats for CentralAir\nCompiling stats for Electrical\nCompiling stats for 1stFlrSF\nCompiling stats for 2ndFlrSF\nCompiling stats for LowQualFinSF\nCompiling stats for GrLivArea\nCompiling stats for BsmtFullBath\nCompiling stats for BsmtHalfBath\nCompiling stats for FullBath\nCompiling stats for HalfBath\nCompiling stats for BedroomAbvGr\nCompiling stats for KitchenAbvGr\nCompiling stats for KitchenQual\nCompiling stats for TotRmsAbvGrd\nCompiling stats for Functional\nCompiling stats for Fireplaces\nCompiling stats for FireplaceQu\nCompiling stats for GarageType\nCompiling stats for GarageYrBlt\nCompiling stats for GarageFinish\nCompiling stats for GarageCars\nCompiling stats for GarageArea\nCompiling stats for GarageQual\nCompiling stats for GarageCond\nCompiling stats for PavedDrive\nCompiling stats for WoodDeckSF\nCompiling stats for OpenPorchSF\nCompiling stats for EnclosedPorch\nCompiling stats for 3SsnPorch\nCompiling stats for ScreenPorch\nCompiling stats for PoolArea\nCompiling stats for PoolQC\nCompiling stats for Fence\nCompiling stats for MiscFeature\nCompiling stats for MiscVal\nCompiling stats for MoSold\nCompiling stats for YrSold\nCompiling stats for SaleType\nCompiling stats for SaleCondition\nCompiling stats for SalePrice\nCompiling stats for MSSubClass\nCompiling stats for MSZoning\nCompiling stats for LotFrontage\nCompiling stats for LotArea\nCompiling stats for Street\nCompiling stats for Alley\nCompiling stats for LotShape\nCompiling stats for LandContour\nCompiling stats for Utilities\nCompiling stats for LotConfig\nCompiling stats for LandSlope\nCompiling stats for Neighborhood\nCompiling stats for Condition1\nCompiling stats for Condition2\nCompiling stats for BldgType\nCompiling stats for HouseStyle\nCompiling stats for OverallQual\nCompiling stats for OverallCond\nCompiling stats for YearBuilt\nCompiling stats for YearRemodAdd\nCompiling stats for RoofStyle\nCompiling stats for RoofMatl\nCompiling stats for Exterior1st\nCompiling stats for Exterior2nd\nCompiling stats for MasVnrType\nCompiling stats for MasVnrArea\nCompiling stats for ExterQual\nCompiling stats for ExterCond\nCompiling stats for Foundation\nCompiling stats for BsmtQual\nCompiling stats for BsmtCond\nCompiling stats for BsmtExposure\nCompiling stats for BsmtFinType1\nCompiling stats for BsmtFinSF1\nCompiling stats for BsmtFinType2\nCompiling stats for BsmtFinSF2\nCompiling stats for BsmtUnfSF\nCompiling stats for TotalBsmtSF\nCompiling stats for Heating\nCompiling stats for HeatingQC\nCompiling stats for CentralAir\nCompiling stats for Electrical\nCompiling stats for 1stFlrSF\nCompiling stats for 2ndFlrSF\nCompiling stats for LowQualFinSF\nCompiling stats for GrLivArea\nCompiling stats for BsmtFullBath\nCompiling stats for BsmtHalfBath\nCompiling stats for FullBath\nCompiling stats for HalfBath\nCompiling stats for BedroomAbvGr\nCompiling stats for KitchenAbvGr\nCompiling stats for KitchenQual\nCompiling stats for TotRmsAbvGrd\nCompiling stats for Functional\nCompiling stats for Fireplaces\nCompiling stats for FireplaceQu\nCompiling stats for GarageType\nCompiling stats for GarageYrBlt\nCompiling stats for GarageFinish\nCompiling stats for GarageCars\nCompiling stats for GarageArea\nCompiling stats for GarageQual\nCompiling stats for GarageCond\nCompiling stats for PavedDrive\nCompiling stats for WoodDeckSF\nCompiling stats for OpenPorchSF\nCompiling stats for EnclosedPorch\nCompiling stats for 3SsnPorch\nCompiling stats for ScreenPorch\nCompiling stats for PoolArea\nCompiling stats for PoolQC\nCompiling stats for Fence\nCompiling stats for MiscFeature\nCompiling stats for MiscVal\nCompiling stats for MoSold\nCompiling stats for YrSold\nCompiling stats for SaleType\nCompiling stats for SaleCondition\nCompiling stats for SalePrice\nUsing JupyterDash\n"
     ]
    },
    {
     "output_type": "display_data",
     "data": {
      "text/plain": "<IPython.lib.display.IFrame at 0x7f98a35ad490>",
      "text/html": "\n        <iframe\n            width=\"100%\"\n            height=\"650\"\n            src=\"http://127.0.0.1:8050/\"\n            frameborder=\"0\"\n            allowfullscreen\n        ></iframe>\n        "
     },
     "metadata": {}
    }
   ],
   "source": [
    "dfs1 = exp_data.sample(frac=0.6)\n",
    "dfs2 = exp_data.sample(frac=0.6)\n",
    "\n",
    "s1schema = Schema(\n",
    "    name=\"s1\", \n",
    "    features=construct_features(all_data.dtypes)\n",
    "    )\n",
    "\n",
    "s2schema = Schema(\n",
    "name=\"s1\", \n",
    "features=construct_features(all_data.dtypes)\n",
    ")\n",
    "    \n",
    "s1schema.build(dfs1)\n",
    "s2schema.build(dfs2)\n",
    "\n",
    "\n",
    "s1schema.compare(s2schema)"
   ]
  },
  {
   "cell_type": "code",
   "execution_count": null,
   "metadata": {},
   "outputs": [],
   "source": []
  }
 ]
}